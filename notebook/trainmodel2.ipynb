{
 "cells": [
  {
   "cell_type": "markdown",
   "metadata": {},
   "source": [
    "# Import libraries"
   ]
  },
  {
   "cell_type": "code",
   "execution_count": 1,
   "metadata": {},
   "outputs": [],
   "source": [
    "import numpy as np\n",
    "import pandas as pd\n",
    "import matplotlib.pyplot as plt\n",
    "import seaborn as sns\n",
    "%matplotlib inline"
   ]
  },
  {
   "cell_type": "markdown",
   "metadata": {},
   "source": [
    "# Import Data"
   ]
  },
  {
   "cell_type": "code",
   "execution_count": 2,
   "metadata": {},
   "outputs": [
    {
     "name": "stdout",
     "output_type": "stream",
     "text": [
      "..\\data\\Supplementary Information File 1 (SIF-1).xlsx\n"
     ]
    }
   ],
   "source": [
    "import os \n",
    "data_path = os.path.join(\"..\", \"data\", \"Supplementary Information File 1 (SIF-1).xlsx\")\n",
    "print (data_path)\n",
    "# os.listdir(data_path)"
   ]
  },
  {
   "cell_type": "code",
   "execution_count": 3,
   "metadata": {},
   "outputs": [
    {
     "data": {
      "text/html": [
       "<div>\n",
       "<style scoped>\n",
       "    .dataframe tbody tr th:only-of-type {\n",
       "        vertical-align: middle;\n",
       "    }\n",
       "\n",
       "    .dataframe tbody tr th {\n",
       "        vertical-align: top;\n",
       "    }\n",
       "\n",
       "    .dataframe thead th {\n",
       "        text-align: right;\n",
       "    }\n",
       "</style>\n",
       "<table border=\"1\" class=\"dataframe\">\n",
       "  <thead>\n",
       "    <tr style=\"text-align: right;\">\n",
       "      <th></th>\n",
       "      <th>S.No</th>\n",
       "      <th>Compound</th>\n",
       "      <th>A</th>\n",
       "      <th>B</th>\n",
       "      <th>In literature</th>\n",
       "      <th>Lowest distortion</th>\n",
       "      <th>v(A)</th>\n",
       "      <th>v(B)</th>\n",
       "      <th>r(AXII)(Å)</th>\n",
       "      <th>r(AVI)(Å)</th>\n",
       "      <th>r(BVI)(Å)</th>\n",
       "      <th>EN(A)</th>\n",
       "      <th>EN(B)</th>\n",
       "      <th>l(A-O)(Å)</th>\n",
       "      <th>l(B-O)(Å)</th>\n",
       "      <th>ΔENR</th>\n",
       "      <th>tG</th>\n",
       "      <th>τ</th>\n",
       "      <th>μ</th>\n",
       "    </tr>\n",
       "  </thead>\n",
       "  <tbody>\n",
       "    <tr>\n",
       "      <th>0</th>\n",
       "      <td>1</td>\n",
       "      <td>Ac2O3</td>\n",
       "      <td>Ac</td>\n",
       "      <td>Ac</td>\n",
       "      <td>False</td>\n",
       "      <td>cubic</td>\n",
       "      <td>element not in BV</td>\n",
       "      <td>element not in BV</td>\n",
       "      <td>1.12</td>\n",
       "      <td>1.12</td>\n",
       "      <td>1.12</td>\n",
       "      <td>1.1</td>\n",
       "      <td>1.10</td>\n",
       "      <td>0.0</td>\n",
       "      <td>0.000000</td>\n",
       "      <td>-3.248000</td>\n",
       "      <td>0.707107</td>\n",
       "      <td>-</td>\n",
       "      <td>0.800000</td>\n",
       "    </tr>\n",
       "    <tr>\n",
       "      <th>1</th>\n",
       "      <td>2</td>\n",
       "      <td>AcAgO3</td>\n",
       "      <td>Ac</td>\n",
       "      <td>Ag</td>\n",
       "      <td>False</td>\n",
       "      <td>orthorhombic</td>\n",
       "      <td>element not in BV</td>\n",
       "      <td>element not in BV</td>\n",
       "      <td>1.12</td>\n",
       "      <td>1.12</td>\n",
       "      <td>0.95</td>\n",
       "      <td>1.1</td>\n",
       "      <td>1.93</td>\n",
       "      <td>0.0</td>\n",
       "      <td>2.488353</td>\n",
       "      <td>-2.565071</td>\n",
       "      <td>0.758259</td>\n",
       "      <td>-</td>\n",
       "      <td>0.678571</td>\n",
       "    </tr>\n",
       "    <tr>\n",
       "      <th>2</th>\n",
       "      <td>3</td>\n",
       "      <td>AcAlO3</td>\n",
       "      <td>Ac</td>\n",
       "      <td>Al</td>\n",
       "      <td>False</td>\n",
       "      <td>cubic</td>\n",
       "      <td>element not in BV</td>\n",
       "      <td>element not in BV</td>\n",
       "      <td>1.12</td>\n",
       "      <td>1.12</td>\n",
       "      <td>0.54</td>\n",
       "      <td>1.1</td>\n",
       "      <td>1.61</td>\n",
       "      <td>0.0</td>\n",
       "      <td>1.892894</td>\n",
       "      <td>-1.846714</td>\n",
       "      <td>0.918510</td>\n",
       "      <td>-</td>\n",
       "      <td>0.385714</td>\n",
       "    </tr>\n",
       "    <tr>\n",
       "      <th>3</th>\n",
       "      <td>4</td>\n",
       "      <td>AcAsO3</td>\n",
       "      <td>Ac</td>\n",
       "      <td>As</td>\n",
       "      <td>False</td>\n",
       "      <td>orthorhombic</td>\n",
       "      <td>element not in BV</td>\n",
       "      <td>element not in BV</td>\n",
       "      <td>1.12</td>\n",
       "      <td>1.12</td>\n",
       "      <td>0.52</td>\n",
       "      <td>1.1</td>\n",
       "      <td>2.18</td>\n",
       "      <td>0.0</td>\n",
       "      <td>1.932227</td>\n",
       "      <td>-1.577429</td>\n",
       "      <td>0.928078</td>\n",
       "      <td>-</td>\n",
       "      <td>0.371429</td>\n",
       "    </tr>\n",
       "    <tr>\n",
       "      <th>4</th>\n",
       "      <td>5</td>\n",
       "      <td>AcAuO3</td>\n",
       "      <td>Ac</td>\n",
       "      <td>Au</td>\n",
       "      <td>False</td>\n",
       "      <td>orthorhombic</td>\n",
       "      <td>element not in BV</td>\n",
       "      <td>element not in BV</td>\n",
       "      <td>1.12</td>\n",
       "      <td>1.12</td>\n",
       "      <td>0.93</td>\n",
       "      <td>1.1</td>\n",
       "      <td>2.54</td>\n",
       "      <td>0.0</td>\n",
       "      <td>2.313698</td>\n",
       "      <td>-2.279786</td>\n",
       "      <td>0.764768</td>\n",
       "      <td>-</td>\n",
       "      <td>0.664286</td>\n",
       "    </tr>\n",
       "  </tbody>\n",
       "</table>\n",
       "</div>"
      ],
      "text/plain": [
       "   S.No Compound   A   B  In literature Lowest distortion               v(A)  \\\n",
       "0     1    Ac2O3  Ac  Ac          False             cubic  element not in BV   \n",
       "1     2   AcAgO3  Ac  Ag          False      orthorhombic  element not in BV   \n",
       "2     3   AcAlO3  Ac  Al          False             cubic  element not in BV   \n",
       "3     4   AcAsO3  Ac  As          False      orthorhombic  element not in BV   \n",
       "4     5   AcAuO3  Ac  Au          False      orthorhombic  element not in BV   \n",
       "\n",
       "                v(B)  r(AXII)(Å)  r(AVI)(Å)  r(BVI)(Å)  EN(A)  EN(B)  \\\n",
       "0  element not in BV        1.12       1.12       1.12    1.1   1.10   \n",
       "1  element not in BV        1.12       1.12       0.95    1.1   1.93   \n",
       "2  element not in BV        1.12       1.12       0.54    1.1   1.61   \n",
       "3  element not in BV        1.12       1.12       0.52    1.1   2.18   \n",
       "4  element not in BV        1.12       1.12       0.93    1.1   2.54   \n",
       "\n",
       "   l(A-O)(Å)  l(B-O)(Å)      ΔENR        tG  τ         μ  \n",
       "0        0.0   0.000000 -3.248000  0.707107  -  0.800000  \n",
       "1        0.0   2.488353 -2.565071  0.758259  -  0.678571  \n",
       "2        0.0   1.892894 -1.846714  0.918510  -  0.385714  \n",
       "3        0.0   1.932227 -1.577429  0.928078  -  0.371429  \n",
       "4        0.0   2.313698 -2.279786  0.764768  -  0.664286  "
      ]
     },
     "execution_count": 3,
     "metadata": {},
     "output_type": "execute_result"
    }
   ],
   "source": [
    "\n",
    "df = pd.read_excel(data_path)\n",
    "df.head()"
   ]
  },
  {
   "cell_type": "markdown",
   "metadata": {},
   "source": [
    "# Dropping irrelevant features"
   ]
  },
  {
   "cell_type": "code",
   "execution_count": 4,
   "metadata": {},
   "outputs": [
    {
     "data": {
      "text/plain": [
       "1675"
      ]
     },
     "execution_count": 4,
     "metadata": {},
     "output_type": "execute_result"
    }
   ],
   "source": [
    "data=df.copy()\n",
    "data.drop(['S.No', 'Compound', 'v(A)', 'v(B)', 'A', 'B', 'In literature' , 'τ' , 'Lowest distortion'], axis=1, inplace=True)\n",
    "# data.info()\n",
    "\n",
    "tg = data['tG'].to_numpy()\n",
    "\n",
    "data = data.drop(['tG'], axis=1)\n",
    "\n",
    "perovskites = 1*((0.82<tg)&(tg<1.10))\n",
    "(perovskites == 1).sum()"
   ]
  },
  {
   "cell_type": "code",
   "execution_count": 5,
   "metadata": {},
   "outputs": [
    {
     "name": "stdout",
     "output_type": "stream",
     "text": [
      "1.388808528 0.384647663\n"
     ]
    }
   ],
   "source": [
    "print(tg.max() , tg.min())"
   ]
  },
  {
   "cell_type": "code",
   "execution_count": 6,
   "metadata": {},
   "outputs": [
    {
     "data": {
      "text/html": [
       "<div>\n",
       "<style scoped>\n",
       "    .dataframe tbody tr th:only-of-type {\n",
       "        vertical-align: middle;\n",
       "    }\n",
       "\n",
       "    .dataframe tbody tr th {\n",
       "        vertical-align: top;\n",
       "    }\n",
       "\n",
       "    .dataframe thead th {\n",
       "        text-align: right;\n",
       "    }\n",
       "</style>\n",
       "<table border=\"1\" class=\"dataframe\">\n",
       "  <thead>\n",
       "    <tr style=\"text-align: right;\">\n",
       "      <th></th>\n",
       "      <th>r(AXII)(Å)</th>\n",
       "      <th>r(AVI)(Å)</th>\n",
       "      <th>r(BVI)(Å)</th>\n",
       "      <th>EN(A)</th>\n",
       "      <th>EN(B)</th>\n",
       "      <th>l(A-O)(Å)</th>\n",
       "      <th>l(B-O)(Å)</th>\n",
       "      <th>ΔENR</th>\n",
       "      <th>μ</th>\n",
       "    </tr>\n",
       "  </thead>\n",
       "  <tbody>\n",
       "    <tr>\n",
       "      <th>0</th>\n",
       "      <td>1.12</td>\n",
       "      <td>1.12</td>\n",
       "      <td>1.12</td>\n",
       "      <td>1.10</td>\n",
       "      <td>1.10</td>\n",
       "      <td>0.00000</td>\n",
       "      <td>0.000000</td>\n",
       "      <td>-3.248000</td>\n",
       "      <td>0.800000</td>\n",
       "    </tr>\n",
       "    <tr>\n",
       "      <th>1</th>\n",
       "      <td>1.12</td>\n",
       "      <td>1.12</td>\n",
       "      <td>0.95</td>\n",
       "      <td>1.10</td>\n",
       "      <td>1.93</td>\n",
       "      <td>0.00000</td>\n",
       "      <td>2.488353</td>\n",
       "      <td>-2.565071</td>\n",
       "      <td>0.678571</td>\n",
       "    </tr>\n",
       "    <tr>\n",
       "      <th>2</th>\n",
       "      <td>1.12</td>\n",
       "      <td>1.12</td>\n",
       "      <td>0.54</td>\n",
       "      <td>1.10</td>\n",
       "      <td>1.61</td>\n",
       "      <td>0.00000</td>\n",
       "      <td>1.892894</td>\n",
       "      <td>-1.846714</td>\n",
       "      <td>0.385714</td>\n",
       "    </tr>\n",
       "    <tr>\n",
       "      <th>3</th>\n",
       "      <td>1.12</td>\n",
       "      <td>1.12</td>\n",
       "      <td>0.52</td>\n",
       "      <td>1.10</td>\n",
       "      <td>2.18</td>\n",
       "      <td>0.00000</td>\n",
       "      <td>1.932227</td>\n",
       "      <td>-1.577429</td>\n",
       "      <td>0.371429</td>\n",
       "    </tr>\n",
       "    <tr>\n",
       "      <th>4</th>\n",
       "      <td>1.12</td>\n",
       "      <td>1.12</td>\n",
       "      <td>0.93</td>\n",
       "      <td>1.10</td>\n",
       "      <td>2.54</td>\n",
       "      <td>0.00000</td>\n",
       "      <td>2.313698</td>\n",
       "      <td>-2.279786</td>\n",
       "      <td>0.664286</td>\n",
       "    </tr>\n",
       "    <tr>\n",
       "      <th>...</th>\n",
       "      <td>...</td>\n",
       "      <td>...</td>\n",
       "      <td>...</td>\n",
       "      <td>...</td>\n",
       "      <td>...</td>\n",
       "      <td>...</td>\n",
       "      <td>...</td>\n",
       "      <td>...</td>\n",
       "      <td>...</td>\n",
       "    </tr>\n",
       "    <tr>\n",
       "      <th>5324</th>\n",
       "      <td>0.89</td>\n",
       "      <td>0.72</td>\n",
       "      <td>0.62</td>\n",
       "      <td>1.33</td>\n",
       "      <td>2.36</td>\n",
       "      <td>2.38342</td>\n",
       "      <td>1.745600</td>\n",
       "      <td>-1.572214</td>\n",
       "      <td>0.442857</td>\n",
       "    </tr>\n",
       "    <tr>\n",
       "      <th>5325</th>\n",
       "      <td>0.89</td>\n",
       "      <td>0.72</td>\n",
       "      <td>0.90</td>\n",
       "      <td>1.33</td>\n",
       "      <td>1.22</td>\n",
       "      <td>2.38342</td>\n",
       "      <td>2.235124</td>\n",
       "      <td>-2.489571</td>\n",
       "      <td>0.642857</td>\n",
       "    </tr>\n",
       "    <tr>\n",
       "      <th>5326</th>\n",
       "      <td>0.89</td>\n",
       "      <td>0.72</td>\n",
       "      <td>0.95</td>\n",
       "      <td>1.33</td>\n",
       "      <td>1.10</td>\n",
       "      <td>2.38342</td>\n",
       "      <td>2.223981</td>\n",
       "      <td>-2.626821</td>\n",
       "      <td>0.678571</td>\n",
       "    </tr>\n",
       "    <tr>\n",
       "      <th>5327</th>\n",
       "      <td>0.89</td>\n",
       "      <td>0.72</td>\n",
       "      <td>0.74</td>\n",
       "      <td>1.33</td>\n",
       "      <td>1.65</td>\n",
       "      <td>2.38342</td>\n",
       "      <td>2.096141</td>\n",
       "      <td>-2.035750</td>\n",
       "      <td>0.528571</td>\n",
       "    </tr>\n",
       "    <tr>\n",
       "      <th>5328</th>\n",
       "      <td>0.89</td>\n",
       "      <td>0.72</td>\n",
       "      <td>0.72</td>\n",
       "      <td>1.33</td>\n",
       "      <td>1.33</td>\n",
       "      <td>2.38342</td>\n",
       "      <td>2.043778</td>\n",
       "      <td>-2.097821</td>\n",
       "      <td>0.514286</td>\n",
       "    </tr>\n",
       "  </tbody>\n",
       "</table>\n",
       "<p>5329 rows × 9 columns</p>\n",
       "</div>"
      ],
      "text/plain": [
       "      r(AXII)(Å)  r(AVI)(Å)  r(BVI)(Å)  EN(A)  EN(B)  l(A-O)(Å)  l(B-O)(Å)  \\\n",
       "0           1.12       1.12       1.12   1.10   1.10    0.00000   0.000000   \n",
       "1           1.12       1.12       0.95   1.10   1.93    0.00000   2.488353   \n",
       "2           1.12       1.12       0.54   1.10   1.61    0.00000   1.892894   \n",
       "3           1.12       1.12       0.52   1.10   2.18    0.00000   1.932227   \n",
       "4           1.12       1.12       0.93   1.10   2.54    0.00000   2.313698   \n",
       "...          ...        ...        ...    ...    ...        ...        ...   \n",
       "5324        0.89       0.72       0.62   1.33   2.36    2.38342   1.745600   \n",
       "5325        0.89       0.72       0.90   1.33   1.22    2.38342   2.235124   \n",
       "5326        0.89       0.72       0.95   1.33   1.10    2.38342   2.223981   \n",
       "5327        0.89       0.72       0.74   1.33   1.65    2.38342   2.096141   \n",
       "5328        0.89       0.72       0.72   1.33   1.33    2.38342   2.043778   \n",
       "\n",
       "          ΔENR         μ  \n",
       "0    -3.248000  0.800000  \n",
       "1    -2.565071  0.678571  \n",
       "2    -1.846714  0.385714  \n",
       "3    -1.577429  0.371429  \n",
       "4    -2.279786  0.664286  \n",
       "...        ...       ...  \n",
       "5324 -1.572214  0.442857  \n",
       "5325 -2.489571  0.642857  \n",
       "5326 -2.626821  0.678571  \n",
       "5327 -2.035750  0.528571  \n",
       "5328 -2.097821  0.514286  \n",
       "\n",
       "[5329 rows x 9 columns]"
      ]
     },
     "execution_count": 6,
     "metadata": {},
     "output_type": "execute_result"
    }
   ],
   "source": [
    "data"
   ]
  },
  {
   "cell_type": "markdown",
   "metadata": {},
   "source": [
    "# Converting categorical to numerical"
   ]
  },
  {
   "cell_type": "code",
   "execution_count": 7,
   "metadata": {},
   "outputs": [],
   "source": [
    "def to_num(y_train):\n",
    "    n = y_train.shape[0]\n",
    "    y_train_np = y_train.to_numpy()\n",
    "    y_train_num = np.zeros((n,))\n",
    "    leftout = 0\n",
    "    for i in range(n):\n",
    "        if y_train_np[i] == 'cubic':\n",
    "            y_train_num[i] = 1\n",
    "        elif y_train_np[i] == 'rhombohedral':\n",
    "            y_train_num[i] = 4\n",
    "        elif y_train_np[i] == 'tetragonal':\n",
    "            y_train_num[i] = 2\n",
    "        elif y_train_np[i] == 'orthorhombic':\n",
    "            y_train_num[i] = 3\n",
    "        else:\n",
    "            leftout+=1\n",
    "\n",
    "    # leftout\n",
    "\n",
    "    return y_train_num-1"
   ]
  },
  {
   "cell_type": "code",
   "execution_count": 9,
   "metadata": {},
   "outputs": [
    {
     "name": "stdout",
     "output_type": "stream",
     "text": [
      "<class 'pandas.core.frame.DataFrame'>\n",
      "RangeIndex: 5329 entries, 0 to 5328\n",
      "Data columns (total 9 columns):\n",
      " #   Column      Non-Null Count  Dtype  \n",
      "---  ------      --------------  -----  \n",
      " 0   r(AXII)(Å)  5329 non-null   float64\n",
      " 1   r(AVI)(Å)   5329 non-null   float64\n",
      " 2   r(BVI)(Å)   5329 non-null   float64\n",
      " 3   EN(A)       5329 non-null   float64\n",
      " 4   EN(B)       5329 non-null   float64\n",
      " 5   l(A-O)(Å)   5329 non-null   float64\n",
      " 6   l(B-O)(Å)   5329 non-null   float64\n",
      " 7   ΔENR        5329 non-null   float64\n",
      " 8   μ           5329 non-null   float64\n",
      "dtypes: float64(9)\n",
      "memory usage: 374.8 KB\n"
     ]
    }
   ],
   "source": [
    "data.info()"
   ]
  },
  {
   "cell_type": "code",
   "execution_count": 13,
   "metadata": {},
   "outputs": [
    {
     "data": {
      "text/plain": [
       "(5329,)"
      ]
     },
     "execution_count": 13,
     "metadata": {},
     "output_type": "execute_result"
    }
   ],
   "source": [
    "distortion = df['Lowest distortion']\n",
    "distortion = to_num(distortion)\n",
    "distortion.shape"
   ]
  },
  {
   "cell_type": "code",
   "execution_count": 15,
   "metadata": {},
   "outputs": [
    {
     "data": {
      "text/html": [
       "<div>\n",
       "<style scoped>\n",
       "    .dataframe tbody tr th:only-of-type {\n",
       "        vertical-align: middle;\n",
       "    }\n",
       "\n",
       "    .dataframe tbody tr th {\n",
       "        vertical-align: top;\n",
       "    }\n",
       "\n",
       "    .dataframe thead th {\n",
       "        text-align: right;\n",
       "    }\n",
       "</style>\n",
       "<table border=\"1\" class=\"dataframe\">\n",
       "  <thead>\n",
       "    <tr style=\"text-align: right;\">\n",
       "      <th></th>\n",
       "      <th>r(AXII)(Å)</th>\n",
       "      <th>r(AVI)(Å)</th>\n",
       "      <th>r(BVI)(Å)</th>\n",
       "      <th>EN(A)</th>\n",
       "      <th>EN(B)</th>\n",
       "      <th>l(A-O)(Å)</th>\n",
       "      <th>l(B-O)(Å)</th>\n",
       "      <th>ΔENR</th>\n",
       "      <th>μ</th>\n",
       "      <th>Lowest distortion</th>\n",
       "    </tr>\n",
       "  </thead>\n",
       "  <tbody>\n",
       "    <tr>\n",
       "      <th>0</th>\n",
       "      <td>1.12</td>\n",
       "      <td>1.12</td>\n",
       "      <td>1.12</td>\n",
       "      <td>1.10</td>\n",
       "      <td>1.10</td>\n",
       "      <td>0.00000</td>\n",
       "      <td>0.000000</td>\n",
       "      <td>-3.248000</td>\n",
       "      <td>0.800000</td>\n",
       "      <td>0.0</td>\n",
       "    </tr>\n",
       "    <tr>\n",
       "      <th>1</th>\n",
       "      <td>1.12</td>\n",
       "      <td>1.12</td>\n",
       "      <td>0.95</td>\n",
       "      <td>1.10</td>\n",
       "      <td>1.93</td>\n",
       "      <td>0.00000</td>\n",
       "      <td>2.488353</td>\n",
       "      <td>-2.565071</td>\n",
       "      <td>0.678571</td>\n",
       "      <td>2.0</td>\n",
       "    </tr>\n",
       "    <tr>\n",
       "      <th>2</th>\n",
       "      <td>1.12</td>\n",
       "      <td>1.12</td>\n",
       "      <td>0.54</td>\n",
       "      <td>1.10</td>\n",
       "      <td>1.61</td>\n",
       "      <td>0.00000</td>\n",
       "      <td>1.892894</td>\n",
       "      <td>-1.846714</td>\n",
       "      <td>0.385714</td>\n",
       "      <td>0.0</td>\n",
       "    </tr>\n",
       "    <tr>\n",
       "      <th>3</th>\n",
       "      <td>1.12</td>\n",
       "      <td>1.12</td>\n",
       "      <td>0.52</td>\n",
       "      <td>1.10</td>\n",
       "      <td>2.18</td>\n",
       "      <td>0.00000</td>\n",
       "      <td>1.932227</td>\n",
       "      <td>-1.577429</td>\n",
       "      <td>0.371429</td>\n",
       "      <td>2.0</td>\n",
       "    </tr>\n",
       "    <tr>\n",
       "      <th>4</th>\n",
       "      <td>1.12</td>\n",
       "      <td>1.12</td>\n",
       "      <td>0.93</td>\n",
       "      <td>1.10</td>\n",
       "      <td>2.54</td>\n",
       "      <td>0.00000</td>\n",
       "      <td>2.313698</td>\n",
       "      <td>-2.279786</td>\n",
       "      <td>0.664286</td>\n",
       "      <td>2.0</td>\n",
       "    </tr>\n",
       "    <tr>\n",
       "      <th>...</th>\n",
       "      <td>...</td>\n",
       "      <td>...</td>\n",
       "      <td>...</td>\n",
       "      <td>...</td>\n",
       "      <td>...</td>\n",
       "      <td>...</td>\n",
       "      <td>...</td>\n",
       "      <td>...</td>\n",
       "      <td>...</td>\n",
       "      <td>...</td>\n",
       "    </tr>\n",
       "    <tr>\n",
       "      <th>5324</th>\n",
       "      <td>0.89</td>\n",
       "      <td>0.72</td>\n",
       "      <td>0.62</td>\n",
       "      <td>1.33</td>\n",
       "      <td>2.36</td>\n",
       "      <td>2.38342</td>\n",
       "      <td>1.745600</td>\n",
       "      <td>-1.572214</td>\n",
       "      <td>0.442857</td>\n",
       "      <td>0.0</td>\n",
       "    </tr>\n",
       "    <tr>\n",
       "      <th>5325</th>\n",
       "      <td>0.89</td>\n",
       "      <td>0.72</td>\n",
       "      <td>0.90</td>\n",
       "      <td>1.33</td>\n",
       "      <td>1.22</td>\n",
       "      <td>2.38342</td>\n",
       "      <td>2.235124</td>\n",
       "      <td>-2.489571</td>\n",
       "      <td>0.642857</td>\n",
       "      <td>0.0</td>\n",
       "    </tr>\n",
       "    <tr>\n",
       "      <th>5326</th>\n",
       "      <td>0.89</td>\n",
       "      <td>0.72</td>\n",
       "      <td>0.95</td>\n",
       "      <td>1.33</td>\n",
       "      <td>1.10</td>\n",
       "      <td>2.38342</td>\n",
       "      <td>2.223981</td>\n",
       "      <td>-2.626821</td>\n",
       "      <td>0.678571</td>\n",
       "      <td>2.0</td>\n",
       "    </tr>\n",
       "    <tr>\n",
       "      <th>5327</th>\n",
       "      <td>0.89</td>\n",
       "      <td>0.72</td>\n",
       "      <td>0.74</td>\n",
       "      <td>1.33</td>\n",
       "      <td>1.65</td>\n",
       "      <td>2.38342</td>\n",
       "      <td>2.096141</td>\n",
       "      <td>-2.035750</td>\n",
       "      <td>0.528571</td>\n",
       "      <td>0.0</td>\n",
       "    </tr>\n",
       "    <tr>\n",
       "      <th>5328</th>\n",
       "      <td>0.89</td>\n",
       "      <td>0.72</td>\n",
       "      <td>0.72</td>\n",
       "      <td>1.33</td>\n",
       "      <td>1.33</td>\n",
       "      <td>2.38342</td>\n",
       "      <td>2.043778</td>\n",
       "      <td>-2.097821</td>\n",
       "      <td>0.514286</td>\n",
       "      <td>0.0</td>\n",
       "    </tr>\n",
       "  </tbody>\n",
       "</table>\n",
       "<p>5329 rows × 10 columns</p>\n",
       "</div>"
      ],
      "text/plain": [
       "      r(AXII)(Å)  r(AVI)(Å)  r(BVI)(Å)  EN(A)  EN(B)  l(A-O)(Å)  l(B-O)(Å)  \\\n",
       "0           1.12       1.12       1.12   1.10   1.10    0.00000   0.000000   \n",
       "1           1.12       1.12       0.95   1.10   1.93    0.00000   2.488353   \n",
       "2           1.12       1.12       0.54   1.10   1.61    0.00000   1.892894   \n",
       "3           1.12       1.12       0.52   1.10   2.18    0.00000   1.932227   \n",
       "4           1.12       1.12       0.93   1.10   2.54    0.00000   2.313698   \n",
       "...          ...        ...        ...    ...    ...        ...        ...   \n",
       "5324        0.89       0.72       0.62   1.33   2.36    2.38342   1.745600   \n",
       "5325        0.89       0.72       0.90   1.33   1.22    2.38342   2.235124   \n",
       "5326        0.89       0.72       0.95   1.33   1.10    2.38342   2.223981   \n",
       "5327        0.89       0.72       0.74   1.33   1.65    2.38342   2.096141   \n",
       "5328        0.89       0.72       0.72   1.33   1.33    2.38342   2.043778   \n",
       "\n",
       "          ΔENR         μ  Lowest distortion  \n",
       "0    -3.248000  0.800000                0.0  \n",
       "1    -2.565071  0.678571                2.0  \n",
       "2    -1.846714  0.385714                0.0  \n",
       "3    -1.577429  0.371429                2.0  \n",
       "4    -2.279786  0.664286                2.0  \n",
       "...        ...       ...                ...  \n",
       "5324 -1.572214  0.442857                0.0  \n",
       "5325 -2.489571  0.642857                0.0  \n",
       "5326 -2.626821  0.678571                2.0  \n",
       "5327 -2.035750  0.528571                0.0  \n",
       "5328 -2.097821  0.514286                0.0  \n",
       "\n",
       "[5329 rows x 10 columns]"
      ]
     },
     "execution_count": 15,
     "metadata": {},
     "output_type": "execute_result"
    }
   ],
   "source": [
    "# add new column distortion to data\n",
    "data['Lowest distortion'] = distortion\n",
    "data"
   ]
  },
  {
   "cell_type": "markdown",
   "metadata": {},
   "source": [
    "# Test Train split"
   ]
  },
  {
   "cell_type": "code",
   "execution_count": 16,
   "metadata": {},
   "outputs": [],
   "source": [
    "from sklearn.model_selection import train_test_split\n",
    "# X = data\n",
    "# y = tg\n",
    "\n",
    "X_train, X_test, y_train, y_test = train_test_split(data, perovskites, test_size=0.2, random_state=108)"
   ]
  },
  {
   "cell_type": "markdown",
   "metadata": {},
   "source": [
    "#  Performing SMOTE"
   ]
  },
  {
   "cell_type": "code",
   "execution_count": 17,
   "metadata": {},
   "outputs": [],
   "source": [
    "from imblearn.over_sampling import SMOTE\n",
    "smote = SMOTE()\n",
    "\n",
    "# Oversample the minority classes\n",
    "X_res, y_res = smote.fit_resample(X_train, y_train)"
   ]
  },
  {
   "cell_type": "code",
   "execution_count": 39,
   "metadata": {},
   "outputs": [],
   "source": [
    "# X = data.to_numpy()\n",
    "# m = data.shape[0]\n",
    "# X[np.arange(m),0] = to_num(data[''])\n",
    "\n",
    "# y = tg.to_numpy()"
   ]
  },
  {
   "cell_type": "markdown",
   "metadata": {},
   "source": [
    "# Training models"
   ]
  },
  {
   "cell_type": "markdown",
   "metadata": {},
   "source": [
    "## Random Forest "
   ]
  },
  {
   "cell_type": "code",
   "execution_count": 18,
   "metadata": {},
   "outputs": [],
   "source": [
    "from sklearn.ensemble import RandomForestClassifier\n",
    "from sklearn.metrics import classification_report\n",
    "def RF_Model (X_train, y_train , norm_func = None):\n",
    "    if norm_func is None:\n",
    "        norm_func = lambda x : x    # noqa: E731\n",
    "\n",
    "    model = RandomForestClassifier(n_estimators=1500, #max_depth=40, #max_features='auto',\n",
    "                                #criterion='entropy',\n",
    "                                min_samples_leaf=1, min_samples_split=5,\n",
    "                                    random_state=108)\n",
    "    model.fit(X_train, y_train)\n",
    "    return model"
   ]
  },
  {
   "cell_type": "code",
   "execution_count": 20,
   "metadata": {},
   "outputs": [
    {
     "name": "stdout",
     "output_type": "stream",
     "text": [
      "              precision    recall  f1-score   support\n",
      "\n",
      "           0       0.99      0.99      0.99       715\n",
      "           1       0.99      0.98      0.98       351\n",
      "\n",
      "    accuracy                           0.99      1066\n",
      "   macro avg       0.99      0.99      0.99      1066\n",
      "weighted avg       0.99      0.99      0.99      1066\n",
      "\n"
     ]
    }
   ],
   "source": [
    "RF_model = RF_Model(X_train, y_train)\n",
    "y_pred = RF_model.predict(X_test)\n",
    "print(classification_report(y_test, y_pred))\n",
    "\n"
   ]
  },
  {
   "cell_type": "code",
   "execution_count": 21,
   "metadata": {},
   "outputs": [
    {
     "data": {
      "text/plain": [
       "0.9887429643527205"
      ]
     },
     "execution_count": 21,
     "metadata": {},
     "output_type": "execute_result"
    }
   ],
   "source": [
    "RF_model.score(X_test, y_test)"
   ]
  },
  {
   "cell_type": "markdown",
   "metadata": {},
   "source": [
    "## RF With SMOTE"
   ]
  },
  {
   "cell_type": "code",
   "execution_count": 26,
   "metadata": {},
   "outputs": [
    {
     "name": "stdout",
     "output_type": "stream",
     "text": [
      "              precision    recall  f1-score   support\n",
      "\n",
      "           0       0.99      0.99      0.99       715\n",
      "           1       0.98      0.99      0.98       351\n",
      "\n",
      "    accuracy                           0.99      1066\n",
      "   macro avg       0.99      0.99      0.99      1066\n",
      "weighted avg       0.99      0.99      0.99      1066\n",
      "\n",
      "0.9896810506566605\n"
     ]
    }
   ],
   "source": [
    "RF_model = RF_Model(X_res, y_res)\n",
    "y_pred = RF_model.predict(X_test)\n",
    "print(classification_report(y_test, y_pred))\n",
    "print(RF_model.score(X_test, y_test))"
   ]
  },
  {
   "cell_type": "markdown",
   "metadata": {},
   "source": [
    "## Decision Tree"
   ]
  },
  {
   "cell_type": "code",
   "execution_count": 22,
   "metadata": {},
   "outputs": [],
   "source": [
    "from sklearn.tree import DecisionTreeClassifier\n",
    "from sklearn import metrics"
   ]
  },
  {
   "cell_type": "code",
   "execution_count": 23,
   "metadata": {},
   "outputs": [],
   "source": [
    "def DT_Model (X_train, y_train , norm_func = None):\n",
    "    if norm_func is None:\n",
    "        norm_func = lambda x : x    # noqa: E731\n",
    "\n",
    "    model = DecisionTreeClassifier(criterion='entropy',\n",
    "                                    min_samples_leaf=1, min_samples_split=5,\n",
    "                                    random_state=108)\n",
    "    model.fit(X_train, y_train)\n",
    "    return model"
   ]
  },
  {
   "cell_type": "code",
   "execution_count": 24,
   "metadata": {},
   "outputs": [],
   "source": [
    "dt_model = DT_Model(X_train, y_train)"
   ]
  },
  {
   "cell_type": "code",
   "execution_count": 27,
   "metadata": {},
   "outputs": [
    {
     "name": "stdout",
     "output_type": "stream",
     "text": [
      "              precision    recall  f1-score   support\n",
      "\n",
      "           0       0.99      0.99      0.99       715\n",
      "           1       0.98      0.97      0.98       351\n",
      "\n",
      "    accuracy                           0.99      1066\n",
      "   macro avg       0.99      0.98      0.98      1066\n",
      "weighted avg       0.99      0.99      0.99      1066\n",
      "\n",
      "0.9859287054409006\n"
     ]
    }
   ],
   "source": [
    "y_pred = dt_model.predict(X_test)\n",
    "print(classification_report(y_test, y_pred))\n",
    "print(dt_model.score(X_test, y_test))"
   ]
  },
  {
   "cell_type": "markdown",
   "metadata": {},
   "source": [
    "## Decision Tree With SMOTE"
   ]
  },
  {
   "cell_type": "code",
   "execution_count": 28,
   "metadata": {},
   "outputs": [
    {
     "name": "stdout",
     "output_type": "stream",
     "text": [
      "              precision    recall  f1-score   support\n",
      "\n",
      "           0       1.00      0.99      0.99       715\n",
      "           1       0.99      0.99      0.99       351\n",
      "\n",
      "    accuracy                           0.99      1066\n",
      "   macro avg       0.99      0.99      0.99      1066\n",
      "weighted avg       0.99      0.99      0.99      1066\n",
      "\n",
      "0.9924953095684803\n"
     ]
    }
   ],
   "source": [
    "dt_model = DT_Model(X_res, y_res)\n",
    "y_pred = dt_model.predict(X_test)\n",
    "print(classification_report(y_test, y_pred))\n",
    "print(dt_model.score(X_test, y_test))"
   ]
  },
  {
   "cell_type": "markdown",
   "metadata": {},
   "source": [
    "## XGBoost"
   ]
  },
  {
   "cell_type": "code",
   "execution_count": 29,
   "metadata": {},
   "outputs": [],
   "source": [
    "import xgboost as xgb"
   ]
  },
  {
   "cell_type": "code",
   "execution_count": 30,
   "metadata": {},
   "outputs": [],
   "source": [
    "def XGB_Model_func(x , y , norm_func = None , n_estimators = 100):\n",
    "    if norm_func is None:\n",
    "        norm_func = lambda x : x    # noqa: E731\n",
    "    \n",
    "    # Define the XGBoost model with a linear objective function\n",
    "    xgb_model = xgb.XGBClassifier(\n",
    "        # objective='reg:linear',  # Linear objective function\n",
    "        # max_depth=12,\n",
    "        # learning_rate=0.25,\n",
    "        # # n_estimators=n_estimators,\n",
    "        # # n_jobs=-1\n",
    "        # gamma = 0.1,\n",
    "        # objective = 'multi:softprob'\n",
    "\n",
    "    )\n",
    "    \n",
    "    # Train the model on the training data\n",
    "    xgb_model.fit(norm_func(x), y)\n",
    "    \n",
    "    return xgb_model"
   ]
  },
  {
   "cell_type": "code",
   "execution_count": 31,
   "metadata": {},
   "outputs": [
    {
     "name": "stdout",
     "output_type": "stream",
     "text": [
      "              precision    recall  f1-score   support\n",
      "\n",
      "           0       1.00      1.00      1.00       715\n",
      "           1       0.99      0.99      0.99       351\n",
      "\n",
      "    accuracy                           1.00      1066\n",
      "   macro avg       0.99      1.00      0.99      1066\n",
      "weighted avg       1.00      1.00      1.00      1066\n",
      "\n",
      "0.9953095684803002\n"
     ]
    }
   ],
   "source": [
    "xgbb_model = XGB_Model_func(X_res, y_res)\n",
    "y_pred = xgbb_model.predict(X_test)\n",
    "print(classification_report(y_test, y_pred))\n",
    "print(xgbb_model.score(X_test, y_test))"
   ]
  }
 ],
 "metadata": {
  "kernelspec": {
   "display_name": ".venv",
   "language": "python",
   "name": "python3"
  },
  "language_info": {
   "codemirror_mode": {
    "name": "ipython",
    "version": 3
   },
   "file_extension": ".py",
   "mimetype": "text/x-python",
   "name": "python",
   "nbconvert_exporter": "python",
   "pygments_lexer": "ipython3",
   "version": "3.11.9"
  }
 },
 "nbformat": 4,
 "nbformat_minor": 2
}
